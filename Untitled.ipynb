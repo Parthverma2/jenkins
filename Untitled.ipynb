{
 "cells": [
  {
   "cell_type": "code",
   "execution_count": 1,
   "id": "6e5a814c",
   "metadata": {},
   "outputs": [
    {
     "name": "stdout",
     "output_type": "stream",
     "text": [
      "Devops enjineering practice       credits - 3\n",
      "SPM       credits - 3\n",
      "Career skills        credits - 3\n",
      "Communication       credits - 3\n",
      "HPC       credits - 4\n",
      "Environment       credits - 3\n",
      "Undergrad       credits - 1\n",
      "Seminar       credits - 1\n",
      "Capstone design     credits -  1\n"
     ]
    }
   ],
   "source": [
    "print(\"Devops enjineering practice       credits - 3\")\n",
    "print(\"SPM       credits - 3\")\n",
    "print(\"Career skills        credits - 3\")\n",
    "print(\"Communication       credits - 3\")\n",
    "print(\"HPC       credits - 4\")\n",
    "print(\"Environment       credits - 3\")\n",
    "print(\"Undergrad       credits - 1\")\n",
    "print(\"Seminar       credits - 1\")\n",
    "print(\"Capstone design     credits -  1\")"
   ]
  },
  {
   "cell_type": "code",
   "execution_count": null,
   "id": "2601a810",
   "metadata": {},
   "outputs": [],
   "source": []
  },
  {
   "cell_type": "code",
   "execution_count": null,
   "id": "5df1ab8c",
   "metadata": {},
   "outputs": [],
   "source": []
  },
  {
   "cell_type": "code",
   "execution_count": null,
   "id": "9ee07feb",
   "metadata": {},
   "outputs": [],
   "source": []
  },
  {
   "cell_type": "code",
   "execution_count": null,
   "id": "b18114f7",
   "metadata": {},
   "outputs": [],
   "source": []
  }
 ],
 "metadata": {
  "kernelspec": {
   "display_name": "Python 3 (ipykernel)",
   "language": "python",
   "name": "python3"
  },
  "language_info": {
   "codemirror_mode": {
    "name": "ipython",
    "version": 3
   },
   "file_extension": ".py",
   "mimetype": "text/x-python",
   "name": "python",
   "nbconvert_exporter": "python",
   "pygments_lexer": "ipython3",
   "version": "3.10.4"
  }
 },
 "nbformat": 4,
 "nbformat_minor": 5
}
